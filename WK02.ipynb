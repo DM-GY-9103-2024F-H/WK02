{
  "cells": [
    {
      "cell_type": "markdown",
      "metadata": {
        "id": "Ty-DVrJlaN1T"
      },
      "source": [
        "# Week 02"
      ]
    },
    {
      "cell_type": "markdown",
      "metadata": {
        "id": "s-e8uvrIca09"
      },
      "source": [
        "## Setup\n",
        "\n",
        "Include some helper functions and libraries"
      ]
    },
    {
      "cell_type": "code",
      "execution_count": null,
      "metadata": {
        "id": "uHIQDMJ-WTei"
      },
      "outputs": [],
      "source": [
        "import random"
      ]
    },
    {
      "cell_type": "markdown",
      "metadata": {},
      "source": [
        "## Ranges\n",
        "\n",
        "<img src=\"./imgs/range.jpg\" width=\"500px\">\n",
        "\n",
        "Range of integers between 0 and 10:"
      ]
    },
    {
      "cell_type": "code",
      "execution_count": null,
      "metadata": {},
      "outputs": [],
      "source": [
        "range(0, 10)\n",
        "\n",
        "# TODO: take a look at the range values"
      ]
    },
    {
      "cell_type": "markdown",
      "metadata": {},
      "source": [
        "Range of between 0 and 100 skipping by 10s:"
      ]
    },
    {
      "cell_type": "code",
      "execution_count": null,
      "metadata": {},
      "outputs": [],
      "source": [
        "range(0, 100, 10)\n",
        "\n",
        "# TODO: take a look at the range values"
      ]
    },
    {
      "cell_type": "markdown",
      "metadata": {},
      "source": [
        "## Lists\n",
        "### Creating lists from sequences of numbers\n",
        "#### Create a list with all numbers from 0 to 91"
      ]
    },
    {
      "cell_type": "code",
      "execution_count": null,
      "metadata": {},
      "outputs": [],
      "source": [
        "list_0_91 = []\n",
        "\n",
        "# TODO: for loop\n",
        "# TODO: comprehension\n",
        "# TODO: casting"
      ]
    },
    {
      "cell_type": "markdown",
      "metadata": {},
      "source": [
        "#### Create a list with all the numbers between 100 and 1000 that end in 91"
      ]
    },
    {
      "cell_type": "code",
      "execution_count": null,
      "metadata": {},
      "outputs": [],
      "source": [
        "list_x91 = []\n",
        "\n",
        "# TODO: for loop\n",
        "# TODO: comprehension\n",
        "# TODO: casting"
      ]
    },
    {
      "cell_type": "markdown",
      "metadata": {},
      "source": [
        "Indexing from the front is normal:"
      ]
    },
    {
      "cell_type": "code",
      "execution_count": null,
      "metadata": {},
      "outputs": [],
      "source": [
        "list_x91, list_x91[0], list_x91[2], list_x91[10]"
      ]
    },
    {
      "cell_type": "markdown",
      "metadata": {},
      "source": [
        "But, Python also lets us index from the back with negative numbers:"
      ]
    },
    {
      "cell_type": "code",
      "execution_count": null,
      "metadata": {},
      "outputs": [],
      "source": [
        "list_x91[-1], list_x91[-2], list_x91[-10]"
      ]
    },
    {
      "cell_type": "markdown",
      "metadata": {},
      "source": [
        "### Create a list with 100 number 2's"
      ]
    },
    {
      "cell_type": "code",
      "execution_count": null,
      "metadata": {},
      "outputs": [],
      "source": [
        "list_100_2 = []\n",
        "# TODO"
      ]
    },
    {
      "cell_type": "markdown",
      "metadata": {},
      "source": [
        "### Create list of numbers between 0 and 100 that are divisible by 7 and 2:"
      ]
    },
    {
      "cell_type": "code",
      "execution_count": null,
      "metadata": {},
      "outputs": [],
      "source": [
        "# TODO: probably using comprehension\n",
        "list_100_7_2 = []"
      ]
    },
    {
      "cell_type": "markdown",
      "metadata": {},
      "source": [
        "### List functions\n",
        "\n",
        "Members of each `list` object.\n",
        "\n",
        "<img src=\"./imgs/lists00.jpg\" width=\"500px\">"
      ]
    },
    {
      "cell_type": "markdown",
      "metadata": {
        "id": "hBs429yN9wYE"
      },
      "source": [
        "### Create a list of 10 random numbers between 0 and 100"
      ]
    },
    {
      "cell_type": "code",
      "execution_count": null,
      "metadata": {
        "id": "36_m35zIyN2h"
      },
      "outputs": [],
      "source": [
        "list_of_randoms = []\n",
        "\n",
        "# TODO: with for loop and append"
      ]
    },
    {
      "cell_type": "markdown",
      "metadata": {
        "id": "7Aw4WiDS92MU"
      },
      "source": [
        "### Print the numbers and their index"
      ]
    },
    {
      "cell_type": "code",
      "execution_count": null,
      "metadata": {
        "id": "h3ochjQlzQ4e"
      },
      "outputs": [],
      "source": [
        "# TODO: with len\n",
        "# TODO: with enumerate"
      ]
    },
    {
      "cell_type": "markdown",
      "metadata": {
        "id": "5_-v7iTl955Q"
      },
      "source": [
        "### Create a list of 100 random numbers between 0 and 1000"
      ]
    },
    {
      "cell_type": "code",
      "execution_count": null,
      "metadata": {
        "id": "5fYaP253u7yB"
      },
      "outputs": [],
      "source": [
        "list_of_randoms = []\n",
        "\n",
        "# TODO: with for loop\n",
        "# TODO: with comprehension"
      ]
    },
    {
      "cell_type": "markdown",
      "metadata": {
        "id": "d6HZ54wJ-GzP"
      },
      "source": [
        "### Create a list with random length\n",
        "\n",
        "A list of random length, with random numbers between 0 and 1000.\n"
      ]
    },
    {
      "cell_type": "code",
      "execution_count": null,
      "metadata": {
        "id": "0kBHR8Ao-AOM"
      },
      "outputs": [],
      "source": [
        "num_elements = 0 # TODO: random len\n",
        "list_of_randoms = []\n",
        "\n",
        "# TODO: list"
      ]
    },
    {
      "cell_type": "markdown",
      "metadata": {},
      "source": [
        "### Addition\n",
        "\n",
        "Besides the `append()` function we can also add elements to a list by using the `+` operator to *concatenate* two lists.\n",
        "\n",
        "And just like addition on numbers we have to assign the result to a variable in order to use it later:"
      ]
    },
    {
      "cell_type": "code",
      "execution_count": null,
      "metadata": {},
      "outputs": [],
      "source": [
        "other_list_of_randoms = [] # TODO\n",
        "new_list_of_randoms = list_of_randoms + other_list_of_randoms\n",
        "\n",
        "# Or, with the +=\n",
        "other_list_of_randoms += list_of_randoms"
      ]
    },
    {
      "cell_type": "markdown",
      "metadata": {
        "id": "XfMx81LP-b_h"
      },
      "source": [
        "### Find the largest element on a list\n",
        "\n",
        "Go through all of the elements and compare each element to the largest number seen so far.\n",
        "\n",
        "Update the `largest` variable if we encounter a larger number."
      ]
    },
    {
      "cell_type": "code",
      "execution_count": null,
      "metadata": {
        "id": "J7eLIAnwxODF"
      },
      "outputs": [],
      "source": [
        "largest = list_of_randoms[0]\n",
        "\n",
        "# TODO: find max"
      ]
    },
    {
      "cell_type": "markdown",
      "metadata": {
        "id": "OQoQSbbC-7Gg"
      },
      "source": [
        "### Find the smallest element on a list\n",
        "\n",
        "Go through all of the elements and compare each element to the smallest number seen so far.\n",
        "\n",
        "Update the `smallest` variable if we encounter a smaller number."
      ]
    },
    {
      "cell_type": "code",
      "execution_count": null,
      "metadata": {
        "id": "5OSOQAVc3s3X"
      },
      "outputs": [],
      "source": [
        "smallest = list_of_randoms[0]\n",
        "\n",
        "# TODO: find min"
      ]
    },
    {
      "cell_type": "markdown",
      "metadata": {
        "id": "rFL_vZuR_A2Z"
      },
      "source": [
        "### Find the sum of all elements on a list\n",
        "\n",
        "Go through all of the elements and add their values to an accumulator variable."
      ]
    },
    {
      "cell_type": "code",
      "execution_count": null,
      "metadata": {
        "id": "g4FjyViC4T_p"
      },
      "outputs": [],
      "source": [
        "my_sum = 0\n",
        "\n",
        "# TODO: find sum"
      ]
    },
    {
      "cell_type": "markdown",
      "metadata": {
        "id": "VlI-SzPa_Ja4"
      },
      "source": [
        "### Python has built in functions for doing these things"
      ]
    },
    {
      "cell_type": "code",
      "execution_count": null,
      "metadata": {
        "id": "ruGHhgm05p_t"
      },
      "outputs": [],
      "source": [
        "print(min(list_of_randoms), max(list_of_randoms), sum(list_of_randoms))"
      ]
    },
    {
      "cell_type": "markdown",
      "metadata": {},
      "source": [
        "### Find the 5 largest and 5 smallest numbers on a list\n",
        "\n",
        "# 🤔"
      ]
    },
    {
      "cell_type": "markdown",
      "metadata": {
        "id": "8sYq0tQj6z0e"
      },
      "source": [
        "### Python has a function for sorting a list that could help"
      ]
    },
    {
      "cell_type": "code",
      "execution_count": null,
      "metadata": {
        "id": "DJlfGTZZ6SJt"
      },
      "outputs": [],
      "source": [
        "my_sorted_list = sorted(list_of_randoms)\n",
        "\n",
        "print(list_of_randoms)\n",
        "print(my_sorted_list)"
      ]
    },
    {
      "cell_type": "markdown",
      "metadata": {},
      "source": [
        "### Functions on lists\n",
        "\n",
        "These are functions that Python gives us to work on lists.\n",
        "\n",
        "<img src=\"./imgs/lists01.jpg\" width=\"600px\">\n",
        "\n",
        "### There are functions for sorting, reversing and getting the length of a `list`:"
      ]
    },
    {
      "cell_type": "code",
      "execution_count": null,
      "metadata": {},
      "outputs": [],
      "source": [
        "my_reversed_sorted_list = [] # TODO\n",
        "\n",
        "print(list_of_randoms)\n",
        "print(my_sorted_list)\n",
        "print(my_reversed_sorted_list)"
      ]
    },
    {
      "cell_type": "markdown",
      "metadata": {
        "id": "zIJjJ8rx_W8s"
      },
      "source": [
        "### With a sorted list we can more easily print the 5 smallest and 5 largest elements\n"
      ]
    },
    {
      "cell_type": "code",
      "execution_count": null,
      "metadata": {
        "id": "ytoCAy4p_dCZ"
      },
      "outputs": [],
      "source": [
        "print(my_sorted_list[ :5], my_sorted_list[-5: ])"
      ]
    },
    {
      "cell_type": "markdown",
      "metadata": {},
      "source": [
        "### WTF\":\"\n",
        "\n",
        "### Slicing\n",
        "\n",
        "Python has a built-in mechanism for getting sub-sections of a list called *slicing*.\n",
        "\n",
        "Instead of a single index, we specify two values in the square bracket, separated by a `:`, to specify where our slice starts and ends:\n",
        "\n",
        "<img src=\"./imgs/slicing.jpg\" width=\"700px\">\n",
        "\n",
        "One **VERY** important thing to remember is that the second index in the bracket is **NOT** included in the slice."
      ]
    },
    {
      "cell_type": "code",
      "execution_count": null,
      "metadata": {},
      "outputs": [],
      "source": [
        "my_list = [random.randint(0, 12) for i in range(0, 20)]\n",
        "my_list, my_list[0 : 5]"
      ]
    },
    {
      "cell_type": "markdown",
      "metadata": {},
      "source": [
        "As another example:  \n",
        "`my_list[4 : 10]` would be used to access $6$ elements starting at position $4$, so ...\n",
        "<br>elements $4$ - $9$ on the list. The second index in the slice, $10$, is not included."
      ]
    },
    {
      "cell_type": "code",
      "execution_count": null,
      "metadata": {},
      "outputs": [],
      "source": [
        "my_list[4 : 10]"
      ]
    },
    {
      "cell_type": "markdown",
      "metadata": {},
      "source": [
        "And, Python being Python, it tries to be smart and keep us from unnecessary typing:\n",
        "- if the first index is blank, the slice will start at the first element \n",
        "- if the second index is blank, the slice will go until the end of the list"
      ]
    },
    {
      "cell_type": "code",
      "execution_count": null,
      "metadata": {},
      "outputs": [],
      "source": [
        "my_list, my_list[0 : 5], my_list[ :5]"
      ]
    },
    {
      "cell_type": "code",
      "execution_count": null,
      "metadata": {},
      "outputs": [],
      "source": [
        "my_list[15 : 20], my_list[15: ]"
      ]
    },
    {
      "cell_type": "markdown",
      "metadata": {},
      "source": [
        "We can use negative indexes to slice from the back:\n",
        "\n",
        "`a_list[-5 : len(a_list)]` would grab the last 5 elements from the list `my_list`,\n",
        "<br>but this can be simplified with `a_list[-5: ]`."
      ]
    },
    {
      "cell_type": "code",
      "execution_count": null,
      "metadata": {},
      "outputs": [],
      "source": [
        "my_list[-5 : len(my_list)], my_list[-5: ]"
      ]
    },
    {
      "cell_type": "markdown",
      "metadata": {},
      "source": [
        "### How would we get the 5 items in the center?"
      ]
    },
    {
      "cell_type": "code",
      "execution_count": null,
      "metadata": {},
      "outputs": [],
      "source": [
        "center_index = 0 # TODO\n",
        "center_5 = [] # TODO: center items"
      ]
    },
    {
      "cell_type": "markdown",
      "metadata": {},
      "source": [
        "### This should make more sense now:"
      ]
    },
    {
      "cell_type": "code",
      "execution_count": null,
      "metadata": {},
      "outputs": [],
      "source": [
        "my_sorted_list[ :5], my_sorted_list[-5: ]"
      ]
    },
    {
      "cell_type": "markdown",
      "metadata": {},
      "source": [
        "## Objects"
      ]
    },
    {
      "cell_type": "markdown",
      "metadata": {},
      "source": [
        "### Creating objects"
      ]
    },
    {
      "cell_type": "code",
      "execution_count": null,
      "metadata": {},
      "outputs": [],
      "source": [
        "my_info = {\n",
        "  \"name\": \"thiago\",\n",
        "  \"id\": 8114,\n",
        "  \"zip\": 11001,\n",
        "  \"grades\": [90, 80, 60],\n",
        "  \"attendance\": [True, True, False, True, True],\n",
        "  \"final grade\": \"A\"\n",
        "}\n",
        "my_info"
      ]
    },
    {
      "cell_type": "markdown",
      "metadata": {},
      "source": [
        "### Accessing values at specific keys"
      ]
    },
    {
      "cell_type": "code",
      "execution_count": null,
      "metadata": {},
      "outputs": [],
      "source": [
        "my_info[\"name\"], my_info[\"grades\"]"
      ]
    },
    {
      "cell_type": "markdown",
      "metadata": {},
      "source": [
        "### Modifying and Adding values"
      ]
    },
    {
      "cell_type": "code",
      "execution_count": null,
      "metadata": {},
      "outputs": [],
      "source": [
        "my_info[\"zip\"] = 11202\n",
        "my_info[\"course\"] = 9103\n",
        "my_info[\"section\"] = \"H\"\n",
        "my_info"
      ]
    },
    {
      "cell_type": "markdown",
      "metadata": {},
      "source": [
        "### Iterating over keys, values and items\n",
        "\n",
        "<img src=\"./imgs/objects.jpg\" width=\"500px\">"
      ]
    },
    {
      "cell_type": "code",
      "execution_count": null,
      "metadata": {},
      "outputs": [],
      "source": [
        "# TODO use my_info.keys(), .values() and .items() to print object"
      ]
    },
    {
      "cell_type": "markdown",
      "metadata": {},
      "source": [
        "## List of objects\n",
        "\n",
        "### Create a list of 10 objects with random heights and brooklyn zip codes.\n",
        "\n",
        "```python\n",
        "my_data = [\n",
        "  {\"height\": [60, 70], \"zip\": [11200, 11250]},\n",
        "  {\"height\": [60, 70], \"zip\": [11200, 11250]},\n",
        "  {\"height\": [60, 70], \"zip\": [11200, 11250]},\n",
        "  ...\n",
        "]\n",
        "```"
      ]
    },
    {
      "cell_type": "code",
      "execution_count": null,
      "metadata": {},
      "outputs": [],
      "source": [
        "my_data = []\n",
        "# TODO"
      ]
    },
    {
      "cell_type": "markdown",
      "metadata": {},
      "source": [
        "### Let's add a list of 3 grades for each member of the list and another item with their computed average"
      ]
    },
    {
      "cell_type": "code",
      "execution_count": null,
      "metadata": {},
      "outputs": [],
      "source": [
        "# TODO: first add grades"
      ]
    },
    {
      "cell_type": "markdown",
      "metadata": {},
      "source": [
        "### Average\n",
        "\n",
        "<img src=\"./imgs/average00.jpg\" width=\"500px\">\n",
        "\n",
        "<img src=\"./imgs/average01.jpg\" width=\"500px\">"
      ]
    },
    {
      "cell_type": "code",
      "execution_count": null,
      "metadata": {},
      "outputs": [],
      "source": [
        "# TODO: compute averages"
      ]
    },
    {
      "cell_type": "markdown",
      "metadata": {},
      "source": [
        "### Get list of all heights"
      ]
    },
    {
      "cell_type": "code",
      "execution_count": null,
      "metadata": {},
      "outputs": [],
      "source": [
        "heights = []\n",
        "# TODO: for loop or comprehension"
      ]
    },
    {
      "cell_type": "markdown",
      "metadata": {},
      "source": [
        "### Sort by key values\n",
        "\n",
        "For example, sort objects by average grade.\n",
        "\n",
        "We could first get all the average grades and then sort the new list:"
      ]
    },
    {
      "cell_type": "code",
      "execution_count": null,
      "metadata": {},
      "outputs": [],
      "source": [
        "# TODO: get list of grades\n",
        "grades = []\n",
        "\n",
        "by_grade = sorted(grades)\n",
        "\n",
        "print(\"original:\\n\", grades)\n",
        "print(\"sorted:\\n\", by_grade)"
      ]
    },
    {
      "cell_type": "markdown",
      "metadata": {},
      "source": [
        "### But now we don't have the other associated information with each grade.\n",
        "\n",
        "We want to sort the list while keeping the objects together.\n",
        "\n",
        "Would be nice to be able to do something like this, just like with a `list`:"
      ]
    },
    {
      "cell_type": "code",
      "execution_count": null,
      "metadata": {},
      "outputs": [],
      "source": [
        "by_grade = sorted(my_data)\n",
        "print(by_grade)"
      ]
    },
    {
      "cell_type": "markdown",
      "metadata": {},
      "source": [
        "### Sorting Objects\n",
        "\n",
        "For lists of objects we have to tell python which values to compare to determine their order.\n",
        "\n",
        "We do this by defining a key function.\n",
        "\n",
        "Key functions receive one argument, that can be an object, a list, a class member, anything... and they return one numerical value.\n",
        "\n",
        "<img src=\"./imgs/list-of-objects.jpg\" width=\"620px\">"
      ]
    },
    {
      "cell_type": "code",
      "execution_count": null,
      "metadata": {},
      "outputs": [],
      "source": [
        "# this key function receives a student-info object with {name, grade, zip, etc}\n",
        "# and should return just the average grade value\n",
        "def gradeKey(A):\n",
        "  # TODO\n",
        "\n",
        "# then we can just use it when we call sorted()\n",
        "by_grade = sorted(my_data, key=gradeKey)\n",
        "\n",
        "by_grade"
      ]
    },
    {
      "cell_type": "code",
      "execution_count": null,
      "metadata": {},
      "outputs": [],
      "source": [
        "# TODO: sort by first assignment grade\n",
        "def hw01Key(A):\n",
        "  # TODO\n",
        "\n",
        "by_hw01 = sorted(my_data, key=hw01Key)\n",
        "\n",
        "by_hw01"
      ]
    },
    {
      "cell_type": "markdown",
      "metadata": {},
      "source": [
        "### Min/Max functions also work with key argument"
      ]
    },
    {
      "cell_type": "code",
      "execution_count": null,
      "metadata": {},
      "outputs": [],
      "source": [
        "# student with highest average grade\n",
        "max_by_grade = max(my_data, key=gradeKey)\n",
        "\n",
        "# student with lowest score on first assignment\n",
        "min_by_hw01 = min(my_data, key=hw01Key)\n",
        "\n",
        "print(max_by_grade)\n",
        "print(min_by_hw01)"
      ]
    },
    {
      "cell_type": "markdown",
      "metadata": {},
      "source": [
        "## Bigger Lists"
      ]
    },
    {
      "cell_type": "markdown",
      "metadata": {},
      "source": [
        "## Setup\n",
        "\n",
        "Include some helper functions and libraries"
      ]
    },
    {
      "cell_type": "code",
      "execution_count": null,
      "metadata": {},
      "outputs": [],
      "source": [
        "!wget -q https://github.com/DM-GY-9103-2024F-H/9103-utils/raw/main/src/data_utils.py"
      ]
    },
    {
      "cell_type": "code",
      "execution_count": null,
      "metadata": {},
      "outputs": [],
      "source": [
        "import matplotlib.pyplot as plt\n",
        "\n",
        "from data_utils import object_from_json_url"
      ]
    },
    {
      "cell_type": "code",
      "execution_count": null,
      "metadata": {},
      "outputs": [],
      "source": [
        "ANSUR_JSON_URL = \"https://raw.githubusercontent.com/DM-GY-9103-2024S-R/9103-utils/main/datasets/json/ansur.json\"\n",
        "ansur = object_from_json_url(ANSUR_JSON_URL)\n",
        "\n",
        "# TODO: look at the data\n",
        "\n",
        "# Answer:\n",
        "#   - how many rows/records/items ?\n",
        "#   - tallest height ?\n",
        "#   - longest ear ?\n",
        "#   - average foot length ?\n",
        "#   - smallest palm ?\n"
      ]
    },
    {
      "cell_type": "markdown",
      "metadata": {},
      "source": [
        "### Let's look at simpler versions"
      ]
    },
    {
      "cell_type": "code",
      "execution_count": null,
      "metadata": {},
      "outputs": [],
      "source": [
        "AHW_JSON_URL = \"https://raw.githubusercontent.com/DM-GY-9103-2024S-R/9103-utils/main/datasets/json/ansur_age_height_weight_object.json\"\n",
        "ahw_objs = object_from_json_url(AHW_JSON_URL)\n",
        "\n",
        "# TODO: look at data\n",
        "# How is it organized ?"
      ]
    },
    {
      "cell_type": "code",
      "execution_count": null,
      "metadata": {},
      "outputs": [],
      "source": [
        "AHW_LIST_URL = \"https://raw.githubusercontent.com/DM-GY-9103-2024S-R/9103-utils/main/datasets/json/ansur_age_height_weight.json\"\n",
        "ahws = object_from_json_url(AHW_LIST_URL)\n",
        "\n",
        "# TODO: look at data\n",
        "# How is it organized ?\n",
        "\n",
        "# Answer the following:\n",
        "#   - how many items ?\n",
        "#   - how do we access the height of a person ?"
      ]
    },
    {
      "cell_type": "markdown",
      "metadata": {},
      "source": [
        "## List of Lists\n",
        "\n",
        "Just like we can put lists inside objects, we can also put lists inside lists.\n",
        "\n",
        "If we want to get to a particular value we have to use $2$ indices instead of using just one:\n",
        "`list[i][j]`\n",
        "\n",
        "The first index tells Python which of the sub-lists we want, and the second specifies the item on that list.\n",
        "\n",
        "<img src=\"./imgs/list-of-lists00.jpg\" width=\"700px\">\n",
        "\n",
        "<img src=\"./imgs/list-of-lists01.jpg\" width=\"700px\">\n",
        "\n",
        "Sometimes we'll refer to the first index as the row index and the second index as the column index.\n",
        "\n",
        "That's because if we imagine our list of lists as a 2-dimensional matrix of numbers, the first index tells Python which row we want to access and the second tells which column:\n",
        "\n",
        "<img src=\"./imgs/list-of-lists02.jpg\" width=\"700px\">\n",
        "\n",
        "<img src=\"./imgs/list-of-lists03.jpg\" width=\"700px\">"
      ]
    },
    {
      "cell_type": "markdown",
      "metadata": {},
      "source": [
        "### Datasets\n",
        "\n",
        "We'll see this kind of structure a lot.\n",
        "\n",
        "It's very common for datasets to be organized by rows/columns, where each column specifies a different *property* (or *feature*) and each row is a different *measurement* (or *record*) of those features.\n",
        "\n",
        "In our example above, our dataset had $3$ *features* (age, height, weight), and one *record* per person.\n",
        "\n",
        "<img src=\"./imgs/datasets00.jpg\" width=\"700px\">"
      ]
    },
    {
      "cell_type": "markdown",
      "metadata": {},
      "source": [
        "### JSON\n",
        "\n",
        "It's also common to find datasets specified in the JSON format.\n",
        "\n",
        "Instead of just being a list of lists with values, each *record* is an object that specifies the names and values of its *features*:\n",
        "\n",
        "<img src=\"./imgs/datasets01.jpg\" width=\"700px\">\n",
        "\n",
        "There are advantages and disadvantages to each. We'll soon look at another way to organize datasets that will make it easier to go from one type to the other if we have to."
      ]
    },
    {
      "cell_type": "markdown",
      "metadata": {},
      "source": [
        "## Plots\n",
        "\n",
        "We can use the [matplot](https://matplotlib.org/stable/api/pyplot_summary.html) library to visualize our data."
      ]
    },
    {
      "cell_type": "code",
      "execution_count": null,
      "metadata": {},
      "outputs": [],
      "source": [
        "# TODO: get heights\n",
        "heights = []\n",
        "\n",
        "plt.plot(heights, 'bo', markersize=2)\n",
        "plt.show()"
      ]
    },
    {
      "cell_type": "code",
      "execution_count": null,
      "metadata": {},
      "outputs": [],
      "source": [
        "# TODO: get weights\n",
        "weights = []\n",
        "\n",
        "plt.plot(weights, 'bo', markersize=2)\n",
        "plt.show()"
      ]
    },
    {
      "cell_type": "code",
      "execution_count": null,
      "metadata": {},
      "outputs": [],
      "source": [
        "sorted_heights = sorted(heights)\n",
        "plt.plot(sorted_heights, 'bo', markersize=2)\n",
        "plt.show()"
      ]
    },
    {
      "cell_type": "markdown",
      "metadata": {},
      "source": [
        "## Histograms"
      ]
    },
    {
      "cell_type": "code",
      "execution_count": null,
      "metadata": {},
      "outputs": [],
      "source": [
        "plt.hist(heights, bins=20)\n",
        "plt.show()"
      ]
    },
    {
      "cell_type": "markdown",
      "metadata": {},
      "source": [
        "## Correlation\n",
        "\n",
        "Measurement of how $2$ independent variables (measurements) are related to each other.\n",
        "\n",
        "<img src=\"./imgs/correlation.jpg\" width=\"800px\">\n",
        "\n",
        "They can have *positive* or *direct* correlation, if an increase in one of the variables comes with an increase in the other.\n",
        "\n",
        "They can have *negative* or *inverse* correlation if an increase in one of the variables is accompanied by a decrease in the other.\n",
        "\n",
        "Or, there can be *weak* or *NO* correlation, if a change in one variable doesn't seem to be accompanied by a change in the other."
      ]
    },
    {
      "cell_type": "code",
      "execution_count": null,
      "metadata": {},
      "outputs": [],
      "source": [
        "# TODO: get \"columns\" from the data above and plot scatter plot\n",
        "ages = []\n",
        "heights = []\n",
        "weights = []\n",
        "\n",
        "plt.scatter(heights, weights, marker='o')\n",
        "plt.xlabel(\"height\")\n",
        "plt.ylabel(\"weight\")\n",
        "plt.title(\"weight x height\")\n",
        "plt.show()\n",
        "\n",
        "# TODO other combinations"
      ]
    }
  ],
  "metadata": {
    "colab": {
      "authorship_tag": "ABX9TyMhuytAcbldogywX05phpmj",
      "provenance": []
    },
    "kernelspec": {
      "display_name": "Python 3",
      "name": "python3"
    },
    "language_info": {
      "codemirror_mode": {
        "name": "ipython",
        "version": 3
      },
      "file_extension": ".py",
      "mimetype": "text/x-python",
      "name": "python",
      "nbconvert_exporter": "python",
      "pygments_lexer": "ipython3",
      "version": "3.10.13"
    }
  },
  "nbformat": 4,
  "nbformat_minor": 0
}
