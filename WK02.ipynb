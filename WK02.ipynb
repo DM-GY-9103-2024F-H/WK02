{
  "cells": [
    {
      "cell_type": "markdown",
      "metadata": {
        "id": "Ty-DVrJlaN1T"
      },
      "source": [
        "# Week 02"
      ]
    },
    {
      "cell_type": "markdown",
      "metadata": {
        "id": "s-e8uvrIca09"
      },
      "source": [
        "## Setup\n",
        "\n",
        "Include some helper functions and libraries"
      ]
    },
    {
      "cell_type": "code",
      "execution_count": null,
      "metadata": {
        "id": "uHIQDMJ-WTei"
      },
      "outputs": [],
      "source": [
        "import random"
      ]
    },
    {
      "cell_type": "markdown",
      "metadata": {},
      "source": [
        "## Ranges\n",
        "\n",
        "Range of integers between 0 and 10:"
      ]
    },
    {
      "cell_type": "code",
      "execution_count": null,
      "metadata": {},
      "outputs": [],
      "source": [
        "range(0, 10)"
      ]
    },
    {
      "cell_type": "markdown",
      "metadata": {},
      "source": [
        "Range of between 0 and 100 skipping by 10s:"
      ]
    },
    {
      "cell_type": "code",
      "execution_count": null,
      "metadata": {},
      "outputs": [],
      "source": [
        "range(0, 100, 10)"
      ]
    },
    {
      "cell_type": "markdown",
      "metadata": {
        "id": "sX5wEtIkWKhD"
      },
      "source": [
        "## Lists"
      ]
    },
    {
      "cell_type": "markdown",
      "metadata": {
        "id": "u4rfXFu89qme"
      },
      "source": [
        "### Create a list with 100 number 2's"
      ]
    },
    {
      "cell_type": "code",
      "execution_count": null,
      "metadata": {
        "id": "bUjv88t8cPNh"
      },
      "outputs": [],
      "source": [
        "list_A = []\n",
        "# TODO"
      ]
    },
    {
      "cell_type": "markdown",
      "metadata": {
        "id": "rR_tplFVYlew"
      },
      "source": [
        "### Create a list with all numbers from 0 to 99"
      ]
    },
    {
      "cell_type": "code",
      "execution_count": null,
      "metadata": {
        "id": "MVyDponVYpwL"
      },
      "outputs": [],
      "source": [
        "list_99 = []\n",
        "\n",
        "# TODO: with for loop\n",
        "# TODO: using comprehension"
      ]
    },
    {
      "cell_type": "markdown",
      "metadata": {},
      "source": [
        "Indexing from the front is normal:"
      ]
    },
    {
      "cell_type": "code",
      "execution_count": null,
      "metadata": {},
      "outputs": [],
      "source": [
        "list_99[0], list_99[2], list_99[10]"
      ]
    },
    {
      "cell_type": "markdown",
      "metadata": {},
      "source": [
        "But, Python also lets us index from the back with negative numbers:"
      ]
    },
    {
      "cell_type": "code",
      "execution_count": null,
      "metadata": {},
      "outputs": [],
      "source": [
        "list_99[-1], list_99[-2], list_99[-10]"
      ]
    },
    {
      "cell_type": "markdown",
      "metadata": {},
      "source": [
        "Create list of numbers between 0 and 100 that are divisible by 7 and 2:"
      ]
    },
    {
      "cell_type": "code",
      "execution_count": null,
      "metadata": {},
      "outputs": [],
      "source": [
        "# TODO: probably using comprehension"
      ]
    },
    {
      "cell_type": "markdown",
      "metadata": {
        "id": "hBs429yN9wYE"
      },
      "source": [
        "### Create a list of 10 random numbers between 0 and 100"
      ]
    },
    {
      "cell_type": "code",
      "execution_count": null,
      "metadata": {
        "id": "36_m35zIyN2h"
      },
      "outputs": [],
      "source": [
        "list_of_randoms = []\n",
        "\n",
        "# TODO: with for loop"
      ]
    },
    {
      "cell_type": "markdown",
      "metadata": {
        "id": "7Aw4WiDS92MU"
      },
      "source": [
        "### Print the numbers and their index"
      ]
    },
    {
      "cell_type": "code",
      "execution_count": null,
      "metadata": {
        "id": "h3ochjQlzQ4e"
      },
      "outputs": [],
      "source": [
        "# TODO: with len\n",
        "# TODO: with enumerate"
      ]
    },
    {
      "cell_type": "markdown",
      "metadata": {
        "id": "5_-v7iTl955Q"
      },
      "source": [
        "### Create a list of 100 random numbers between 0 and 1000"
      ]
    },
    {
      "cell_type": "code",
      "execution_count": null,
      "metadata": {
        "id": "5fYaP253u7yB"
      },
      "outputs": [],
      "source": [
        "list_of_randoms = []\n",
        "\n",
        "# TODO: with for loop"
      ]
    },
    {
      "cell_type": "markdown",
      "metadata": {
        "id": "d6HZ54wJ-GzP"
      },
      "source": [
        "### Create a list with random length\n",
        "\n",
        "A list of random length, with random numbers between 0 and 1000.\n"
      ]
    },
    {
      "cell_type": "code",
      "execution_count": null,
      "metadata": {
        "id": "0kBHR8Ao-AOM"
      },
      "outputs": [],
      "source": [
        "num_elements = 0 # TODO: random len\n",
        "list_of_randoms = []\n",
        "\n",
        "# TODO: list"
      ]
    },
    {
      "cell_type": "markdown",
      "metadata": {
        "id": "XfMx81LP-b_h"
      },
      "source": [
        "### Find the largest element on a list\n",
        "\n",
        "Go through all of the elements and compare each element to the largest number seen so far.\n",
        "\n",
        "Update the `largest` variable if we encounter a larger number."
      ]
    },
    {
      "cell_type": "code",
      "execution_count": null,
      "metadata": {
        "id": "J7eLIAnwxODF"
      },
      "outputs": [],
      "source": [
        "largest = list_of_randoms[0]\n",
        "\n",
        "# TODO: find max"
      ]
    },
    {
      "cell_type": "markdown",
      "metadata": {
        "id": "OQoQSbbC-7Gg"
      },
      "source": [
        "### Find the smallest element on a list\n",
        "\n",
        "Go through all of the elements and compare each element to the smallest number seen so far.\n",
        "\n",
        "Update the `smallest` variable if we encounter a smaller number."
      ]
    },
    {
      "cell_type": "code",
      "execution_count": null,
      "metadata": {
        "id": "5OSOQAVc3s3X"
      },
      "outputs": [],
      "source": [
        "smallest = list_of_randoms[0]\n",
        "\n",
        "# TODO: find min"
      ]
    },
    {
      "cell_type": "markdown",
      "metadata": {
        "id": "rFL_vZuR_A2Z"
      },
      "source": [
        "### Find the sum of all elements on a list\n",
        "\n",
        "Go through all of the elements and add their values to an accumulator variable."
      ]
    },
    {
      "cell_type": "code",
      "execution_count": null,
      "metadata": {
        "id": "g4FjyViC4T_p"
      },
      "outputs": [],
      "source": [
        "my_sum = 0\n",
        "\n",
        "# TODO: find sum"
      ]
    },
    {
      "cell_type": "markdown",
      "metadata": {
        "id": "VlI-SzPa_Ja4"
      },
      "source": [
        "### Python has built in functions for doing these things"
      ]
    },
    {
      "cell_type": "code",
      "execution_count": null,
      "metadata": {
        "id": "ruGHhgm05p_t"
      },
      "outputs": [],
      "source": [
        "print(min(list_of_randoms), max(list_of_randoms), sum(list_of_randoms))"
      ]
    },
    {
      "cell_type": "markdown",
      "metadata": {
        "id": "8sYq0tQj6z0e"
      },
      "source": [
        "### Python also has a function for sorting a list."
      ]
    },
    {
      "cell_type": "code",
      "execution_count": null,
      "metadata": {
        "id": "DJlfGTZZ6SJt"
      },
      "outputs": [],
      "source": [
        "my_sorted_list = sorted(list_of_randoms)\n",
        "print(my_sorted_list)"
      ]
    },
    {
      "cell_type": "markdown",
      "metadata": {
        "id": "zIJjJ8rx_W8s"
      },
      "source": [
        "### With a sorted list we can more easily print the 5 smallest and 5 largest elements\n"
      ]
    },
    {
      "cell_type": "code",
      "execution_count": null,
      "metadata": {
        "id": "ytoCAy4p_dCZ"
      },
      "outputs": [],
      "source": [
        "print(my_sorted_list[ :5], my_sorted_list[-5: ])"
      ]
    },
    {
      "cell_type": "markdown",
      "metadata": {
        "id": "LkovtbW7zPY5"
      },
      "source": [
        "This is new syntax.\n",
        "\n",
        "It's called `slicing` and it's used to access subsets of a list.\n",
        "\n",
        "`my_list[ :5]` is the same as `my_list[0 : 5]`, and they both can be used to access the first `5` elements of a list.\n",
        "\n",
        "Just like with the `range()` function, the last value is not included in the slice."
      ]
    },
    {
      "cell_type": "code",
      "execution_count": null,
      "metadata": {},
      "outputs": [],
      "source": [
        "my_list = [random.randint(0, 12) for i in range(0, 20)]\n",
        "my_list, my_list[ :5]"
      ]
    },
    {
      "cell_type": "markdown",
      "metadata": {},
      "source": [
        "As another example:  \n",
        "`my_list[4 : 10]` would be used to access $6$ elements starting at position $4$, so ...\n",
        "<br>elements $4$ - $9$ on the list. The second index in the slice, $10$, is not included."
      ]
    },
    {
      "cell_type": "code",
      "execution_count": null,
      "metadata": {},
      "outputs": [],
      "source": [
        "my_list[4 : 10]"
      ]
    },
    {
      "cell_type": "markdown",
      "metadata": {},
      "source": [
        "We can use negative indexes to slice from the back:\n",
        "\n",
        "`a_list[-5 : len(a_list)]` would grab the last 5 elements from the list `my_list`,\n",
        "<br>but this can be simplified with `a_list[-5: ]`."
      ]
    },
    {
      "cell_type": "code",
      "execution_count": null,
      "metadata": {},
      "outputs": [],
      "source": [
        "my_list[-5 : len(my_list)], my_list[-5: ]"
      ]
    },
    {
      "cell_type": "markdown",
      "metadata": {},
      "source": [
        "## List of Lists"
      ]
    },
    {
      "cell_type": "markdown",
      "metadata": {},
      "source": [
        "## NumPy"
      ]
    },
    {
      "cell_type": "markdown",
      "metadata": {},
      "source": [
        "## List of Objects"
      ]
    },
    {
      "cell_type": "markdown",
      "metadata": {},
      "source": [
        "### Creating objects"
      ]
    },
    {
      "cell_type": "code",
      "execution_count": null,
      "metadata": {},
      "outputs": [],
      "source": [
        "my_info = {\n",
        "  \"name\": \"thiago\",\n",
        "  \"id\": 8114,\n",
        "  \"zip\": 11001,\n",
        "  \"grades\": [90, 80, 60],\n",
        "  \"attendance\": [True, True, False, True, True],\n",
        "  \"final grade\": \"A\"\n",
        "}\n",
        "my_info"
      ]
    },
    {
      "cell_type": "markdown",
      "metadata": {},
      "source": [
        "### Accessing values at specific keys"
      ]
    },
    {
      "cell_type": "code",
      "execution_count": null,
      "metadata": {},
      "outputs": [],
      "source": [
        "my_grades = my_info[\"grades\"]\n",
        "print(my_grades)"
      ]
    },
    {
      "cell_type": "markdown",
      "metadata": {},
      "source": [
        "### Iterating over items"
      ]
    },
    {
      "cell_type": "code",
      "execution_count": null,
      "metadata": {},
      "outputs": [],
      "source": [
        "for key, val in my_info.items():\n",
        "  print(\"key\", key, \"has value\", val)"
      ]
    },
    {
      "cell_type": "markdown",
      "metadata": {},
      "source": [
        "### List of objects\n",
        "\n",
        "Creating a list of 10 objects with random heights and brooklyn zip codes."
      ]
    },
    {
      "cell_type": "code",
      "execution_count": null,
      "metadata": {},
      "outputs": [],
      "source": [
        "my_data = []\n",
        "\n",
        "for c in range(0, 10):\n",
        "  my_object = {\n",
        "    \"height\": random.randint(60, 70),\n",
        "    \"zip\": random.randint(11200, 11240)\n",
        "  }\n",
        "\n",
        "  my_data.append(my_object)"
      ]
    },
    {
      "cell_type": "code",
      "execution_count": null,
      "metadata": {},
      "outputs": [],
      "source": [
        "for d in my_data:\n",
        "  print(d)"
      ]
    }
  ],
  "metadata": {
    "colab": {
      "authorship_tag": "ABX9TyMhuytAcbldogywX05phpmj",
      "provenance": []
    },
    "kernelspec": {
      "display_name": "Python 3",
      "name": "python3"
    },
    "language_info": {
      "codemirror_mode": {
        "name": "ipython",
        "version": 3
      },
      "file_extension": ".py",
      "mimetype": "text/x-python",
      "name": "python",
      "nbconvert_exporter": "python",
      "pygments_lexer": "ipython3",
      "version": "3.10.13"
    }
  },
  "nbformat": 4,
  "nbformat_minor": 0
}
